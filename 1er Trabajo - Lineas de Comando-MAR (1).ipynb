{
 "cells": [
  {
   "cell_type": "code",
   "execution_count": 1,
   "id": "5b9518f0-c386-4966-8930-e37bbf2f67a6",
   "metadata": {},
   "outputs": [
    {
     "name": "stdout",
     "output_type": "stream",
     "text": [
      "C:\\Users\\DELL\n"
     ]
    }
   ],
   "source": [
    "import os\n",
    "\n",
    "# Mostrar el directorio de trabajo actual\n",
    "print(os.getcwd())"
   ]
  },
  {
   "cell_type": "code",
   "execution_count": 3,
   "id": "f65de24e-e086-4913-b80c-8142a9f6df7d",
   "metadata": {},
   "outputs": [],
   "source": [
    "import pandas as pd"
   ]
  },
  {
   "cell_type": "code",
   "execution_count": 5,
   "id": "29c2d2c1-f48f-419c-89ae-2239cc52d436",
   "metadata": {},
   "outputs": [
    {
     "data": {
      "text/html": [
       "<div>\n",
       "<style scoped>\n",
       "    .dataframe tbody tr th:only-of-type {\n",
       "        vertical-align: middle;\n",
       "    }\n",
       "\n",
       "    .dataframe tbody tr th {\n",
       "        vertical-align: top;\n",
       "    }\n",
       "\n",
       "    .dataframe thead th {\n",
       "        text-align: right;\n",
       "    }\n",
       "</style>\n",
       "<table border=\"1\" class=\"dataframe\">\n",
       "  <thead>\n",
       "    <tr style=\"text-align: right;\">\n",
       "      <th></th>\n",
       "      <th>rating</th>\n",
       "      <th>title</th>\n",
       "      <th>text</th>\n",
       "      <th>images</th>\n",
       "      <th>asin</th>\n",
       "      <th>parent_asin</th>\n",
       "      <th>user_id</th>\n",
       "      <th>timestamp</th>\n",
       "      <th>helpful_vote</th>\n",
       "      <th>verified_purchase</th>\n",
       "    </tr>\n",
       "  </thead>\n",
       "  <tbody>\n",
       "    <tr>\n",
       "      <th>0</th>\n",
       "      <td>5</td>\n",
       "      <td>Great gift</td>\n",
       "      <td>Having Amazon money is always good.</td>\n",
       "      <td>[]</td>\n",
       "      <td>B00IX1I3G6</td>\n",
       "      <td>B00IX1I3G6</td>\n",
       "      <td>AHZ6XMOLEWA67S3TX7IWEXXGWSOA</td>\n",
       "      <td>2019-02-11 06:22:38.332</td>\n",
       "      <td>0</td>\n",
       "      <td>True</td>\n",
       "    </tr>\n",
       "    <tr>\n",
       "      <th>1</th>\n",
       "      <td>5</td>\n",
       "      <td>amazon gift card</td>\n",
       "      <td>Always the perfect gift.  I have never given o...</td>\n",
       "      <td>[]</td>\n",
       "      <td>B005ESMMWW</td>\n",
       "      <td>B005ESMMWW</td>\n",
       "      <td>AFZUK3MTBIBEDQOPAK3OATUOUKLA</td>\n",
       "      <td>2020-09-12 01:45:58.120</td>\n",
       "      <td>0</td>\n",
       "      <td>False</td>\n",
       "    </tr>\n",
       "    <tr>\n",
       "      <th>2</th>\n",
       "      <td>5</td>\n",
       "      <td>perfect gift</td>\n",
       "      <td>When you have a person who is hard to shop for...</td>\n",
       "      <td>[]</td>\n",
       "      <td>B01K8RIM5Y</td>\n",
       "      <td>B005S28ZES</td>\n",
       "      <td>AFZUK3MTBIBEDQOPAK3OATUOUKLA</td>\n",
       "      <td>2018-09-03 01:58:49.239</td>\n",
       "      <td>27</td>\n",
       "      <td>True</td>\n",
       "    </tr>\n",
       "    <tr>\n",
       "      <th>3</th>\n",
       "      <td>5</td>\n",
       "      <td>Nice looking</td>\n",
       "      <td>The tin is a nice touch and pretty large.  It'...</td>\n",
       "      <td>[]</td>\n",
       "      <td>B0091JKVU0</td>\n",
       "      <td>B00ADR2LV6</td>\n",
       "      <td>AFZUK3MTBIBEDQOPAK3OATUOUKLA</td>\n",
       "      <td>2014-12-13 02:59:37.000</td>\n",
       "      <td>0</td>\n",
       "      <td>False</td>\n",
       "    </tr>\n",
       "    <tr>\n",
       "      <th>4</th>\n",
       "      <td>1</td>\n",
       "      <td>Not $10 Gift Cards</td>\n",
       "      <td>I bought this pack of Starbucks Gift cards in ...</td>\n",
       "      <td>[]</td>\n",
       "      <td>B00FTGTM5E</td>\n",
       "      <td>B00FTGTIOE</td>\n",
       "      <td>AH5L7ILVA6HYLZOUZIQAWNHVVK3A</td>\n",
       "      <td>2021-11-28 03:06:48.115</td>\n",
       "      <td>2</td>\n",
       "      <td>True</td>\n",
       "    </tr>\n",
       "    <tr>\n",
       "      <th>5</th>\n",
       "      <td>5</td>\n",
       "      <td>Cute!</td>\n",
       "      <td>That snowman tin is adorable</td>\n",
       "      <td>[]</td>\n",
       "      <td>B072L7GTF5</td>\n",
       "      <td>B00ADR2LV6</td>\n",
       "      <td>AECABX3OO3GK7FCPZLFM3LT2E6UA</td>\n",
       "      <td>2020-12-22 18:17:43.303</td>\n",
       "      <td>0</td>\n",
       "      <td>True</td>\n",
       "    </tr>\n",
       "    <tr>\n",
       "      <th>6</th>\n",
       "      <td>5</td>\n",
       "      <td>Easy gift</td>\n",
       "      <td>Great and easy gift</td>\n",
       "      <td>[]</td>\n",
       "      <td>B00IX1I3G6</td>\n",
       "      <td>B00IX1I3G6</td>\n",
       "      <td>AFSCQMP2EPYLGJN7OBTMEXCBE2OQ</td>\n",
       "      <td>2020-10-07 20:54:57.716</td>\n",
       "      <td>0</td>\n",
       "      <td>True</td>\n",
       "    </tr>\n",
       "    <tr>\n",
       "      <th>7</th>\n",
       "      <td>5</td>\n",
       "      <td>Great gift</td>\n",
       "      <td>Super cute nice quality tin&lt;br /&gt;Your choose a...</td>\n",
       "      <td>[]</td>\n",
       "      <td>B072P5VV4D</td>\n",
       "      <td>B00ADR2LV6</td>\n",
       "      <td>AF4XAUOI5XPGWHCPOTORKBIJSRDA</td>\n",
       "      <td>2019-02-27 06:08:02.370</td>\n",
       "      <td>0</td>\n",
       "      <td>True</td>\n",
       "    </tr>\n",
       "    <tr>\n",
       "      <th>8</th>\n",
       "      <td>5</td>\n",
       "      <td>Gifts for my two granddaughters</td>\n",
       "      <td>They love it !!</td>\n",
       "      <td>[]</td>\n",
       "      <td>B072P5VV4D</td>\n",
       "      <td>B00ADR2LV6</td>\n",
       "      <td>AGJXTLEOLLTIX5AAGFPBZ7CNNVOQ</td>\n",
       "      <td>2023-02-03 01:31:40.672</td>\n",
       "      <td>0</td>\n",
       "      <td>True</td>\n",
       "    </tr>\n",
       "    <tr>\n",
       "      <th>9</th>\n",
       "      <td>5</td>\n",
       "      <td>Great for saying “thank you” to the mail perso...</td>\n",
       "      <td>So many people&lt;br /&gt;Make your life better so r...</td>\n",
       "      <td>[]</td>\n",
       "      <td>B071NM2PNL</td>\n",
       "      <td>B071X4ZX3X</td>\n",
       "      <td>AG7QDTQYHFOIXFWSVUUBZOEIW2NA</td>\n",
       "      <td>2023-01-21 12:47:22.048</td>\n",
       "      <td>0</td>\n",
       "      <td>True</td>\n",
       "    </tr>\n",
       "  </tbody>\n",
       "</table>\n",
       "</div>"
      ],
      "text/plain": [
       "   rating                                              title  \\\n",
       "0       5                                         Great gift   \n",
       "1       5                                   amazon gift card   \n",
       "2       5                                       perfect gift   \n",
       "3       5                                       Nice looking   \n",
       "4       1                                 Not $10 Gift Cards   \n",
       "5       5                                              Cute!   \n",
       "6       5                                          Easy gift   \n",
       "7       5                                         Great gift   \n",
       "8       5                    Gifts for my two granddaughters   \n",
       "9       5  Great for saying “thank you” to the mail perso...   \n",
       "\n",
       "                                                text images        asin  \\\n",
       "0                Having Amazon money is always good.     []  B00IX1I3G6   \n",
       "1  Always the perfect gift.  I have never given o...     []  B005ESMMWW   \n",
       "2  When you have a person who is hard to shop for...     []  B01K8RIM5Y   \n",
       "3  The tin is a nice touch and pretty large.  It'...     []  B0091JKVU0   \n",
       "4  I bought this pack of Starbucks Gift cards in ...     []  B00FTGTM5E   \n",
       "5                       That snowman tin is adorable     []  B072L7GTF5   \n",
       "6                                Great and easy gift     []  B00IX1I3G6   \n",
       "7  Super cute nice quality tin<br />Your choose a...     []  B072P5VV4D   \n",
       "8                                    They love it !!     []  B072P5VV4D   \n",
       "9  So many people<br />Make your life better so r...     []  B071NM2PNL   \n",
       "\n",
       "  parent_asin                       user_id               timestamp  \\\n",
       "0  B00IX1I3G6  AHZ6XMOLEWA67S3TX7IWEXXGWSOA 2019-02-11 06:22:38.332   \n",
       "1  B005ESMMWW  AFZUK3MTBIBEDQOPAK3OATUOUKLA 2020-09-12 01:45:58.120   \n",
       "2  B005S28ZES  AFZUK3MTBIBEDQOPAK3OATUOUKLA 2018-09-03 01:58:49.239   \n",
       "3  B00ADR2LV6  AFZUK3MTBIBEDQOPAK3OATUOUKLA 2014-12-13 02:59:37.000   \n",
       "4  B00FTGTIOE  AH5L7ILVA6HYLZOUZIQAWNHVVK3A 2021-11-28 03:06:48.115   \n",
       "5  B00ADR2LV6  AECABX3OO3GK7FCPZLFM3LT2E6UA 2020-12-22 18:17:43.303   \n",
       "6  B00IX1I3G6  AFSCQMP2EPYLGJN7OBTMEXCBE2OQ 2020-10-07 20:54:57.716   \n",
       "7  B00ADR2LV6  AF4XAUOI5XPGWHCPOTORKBIJSRDA 2019-02-27 06:08:02.370   \n",
       "8  B00ADR2LV6  AGJXTLEOLLTIX5AAGFPBZ7CNNVOQ 2023-02-03 01:31:40.672   \n",
       "9  B071X4ZX3X  AG7QDTQYHFOIXFWSVUUBZOEIW2NA 2023-01-21 12:47:22.048   \n",
       "\n",
       "   helpful_vote  verified_purchase  \n",
       "0             0               True  \n",
       "1             0              False  \n",
       "2            27               True  \n",
       "3             0              False  \n",
       "4             2               True  \n",
       "5             0               True  \n",
       "6             0               True  \n",
       "7             0               True  \n",
       "8             0               True  \n",
       "9             0               True  "
      ]
     },
     "execution_count": 5,
     "metadata": {},
     "output_type": "execute_result"
    }
   ],
   "source": [
    "df = pd.read_json(\"Gift_Cards_reviews.jsonl\", lines=True)\n",
    "#df = pd.read_json(\"C:/Users/DELL/Downloads/Gift_Cards_reviews.jsonl\", lines=True)\n",
    "df.head(10)"
   ]
  },
  {
   "cell_type": "code",
   "execution_count": 7,
   "id": "117070d3-0459-46d7-89c8-3f3d0f45ba91",
   "metadata": {},
   "outputs": [
    {
     "name": "stdout",
     "output_type": "stream",
     "text": [
      "Defaulting to user installation because normal site-packages is not writeable\n",
      "Requirement already satisfied: nltk in c:\\users\\dell\\appdata\\roaming\\python\\python39\\site-packages (3.9.1)\n",
      "Requirement already satisfied: joblib in d:\\anaconda3\\lib\\site-packages (from nltk) (1.1.0)\n",
      "Requirement already satisfied: tqdm in d:\\anaconda3\\lib\\site-packages (from nltk) (4.64.1)\n",
      "Requirement already satisfied: click in d:\\anaconda3\\lib\\site-packages (from nltk) (8.0.4)\n",
      "Requirement already satisfied: regex>=2021.8.3 in d:\\anaconda3\\lib\\site-packages (from nltk) (2022.7.9)\n",
      "Requirement already satisfied: colorama in d:\\anaconda3\\lib\\site-packages (from click->nltk) (0.4.6)\n",
      "Note: you may need to restart the kernel to use updated packages.\n"
     ]
    }
   ],
   "source": [
    "pip install nltk"
   ]
  },
  {
   "cell_type": "code",
   "execution_count": 11,
   "id": "5cdf07ea-626f-4a02-ab0a-1b6e7f54b9ea",
   "metadata": {},
   "outputs": [
    {
     "name": "stderr",
     "output_type": "stream",
     "text": [
      "[nltk_data] Downloading package punkt to\n",
      "[nltk_data]     C:\\Users\\DELL\\AppData\\Roaming\\nltk_data...\n",
      "[nltk_data]   Package punkt is already up-to-date!\n",
      "[nltk_data] Downloading package punkt_tab to\n",
      "[nltk_data]     C:\\Users\\DELL\\AppData\\Roaming\\nltk_data...\n",
      "[nltk_data]   Package punkt_tab is already up-to-date!\n"
     ]
    }
   ],
   "source": [
    "import re\n",
    "import nltk\n",
    "nltk.download('punkt')\n",
    "nltk.download('punkt_tab')\n",
    "from nltk.tokenize import word_tokenize\n"
   ]
  },
  {
   "cell_type": "code",
   "execution_count": 17,
   "id": "3d8e9808-402c-485d-b483-83a3908a9490",
   "metadata": {},
   "outputs": [
    {
     "name": "stdout",
     "output_type": "stream",
     "text": [
      "0                   Having Amazon money is always good.\n",
      "1     Always the perfect gift.  I have never given o...\n",
      "2     When you have a person who is hard to shop for...\n",
      "3     The tin is a nice touch and pretty large.  It'...\n",
      "4     I bought this pack of Starbucks Gift cards in ...\n",
      "                            ...                        \n",
      "95    Usually I either receive an Amazon gift card a...\n",
      "96                                       Love my card!!\n",
      "97    It’s easy to use and very convenient. I would ...\n",
      "98     Very easy to use. I wish I knew about it earlier\n",
      "99                           Sent in a lovely container\n",
      "Name: text, Length: 100, dtype: object\n"
     ]
    }
   ],
   "source": [
    "print(df['text'])"
   ]
  },
  {
   "cell_type": "code",
   "execution_count": 19,
   "id": "a58c4565-3b25-480f-acfd-c98a58262e20",
   "metadata": {},
   "outputs": [
    {
     "name": "stdout",
     "output_type": "stream",
     "text": [
      "{'review': 0                   Having Amazon money is always good.\n",
      "1     Always the perfect gift.  I have never given o...\n",
      "2     When you have a person who is hard to shop for...\n",
      "3     The tin is a nice touch and pretty large.  It'...\n",
      "4     I bought this pack of Starbucks Gift cards in ...\n",
      "                            ...                        \n",
      "95    Usually I either receive an Amazon gift card a...\n",
      "96                                       Love my card!!\n",
      "97    It’s easy to use and very convenient. I would ...\n",
      "98     Very easy to use. I wish I knew about it earlier\n",
      "99                           Sent in a lovely container\n",
      "Name: text, Length: 100, dtype: object}\n"
     ]
    }
   ],
   "source": [
    "data = {\n",
    "    'review': df['text']\n",
    "}\n",
    "#data['review'] = df['text']\n",
    "print(data)"
   ]
  },
  {
   "cell_type": "code",
   "execution_count": 21,
   "id": "20010982-5fd8-4952-b746-56c4e2b587b2",
   "metadata": {},
   "outputs": [
    {
     "name": "stdout",
     "output_type": "stream",
     "text": [
      "                                               review  \\\n",
      "0                 Having Amazon money is always good.   \n",
      "1   Always the perfect gift.  I have never given o...   \n",
      "2   When you have a person who is hard to shop for...   \n",
      "3   The tin is a nice touch and pretty large.  It'...   \n",
      "4   I bought this pack of Starbucks Gift cards in ...   \n",
      "..                                                ...   \n",
      "95  Usually I either receive an Amazon gift card a...   \n",
      "96                                     Love my card!!   \n",
      "97  It’s easy to use and very convenient. I would ...   \n",
      "98   Very easy to use. I wish I knew about it earlier   \n",
      "99                         Sent in a lovely container   \n",
      "\n",
      "                                         cleaned_text  \\\n",
      "0                  having amazon money is always good   \n",
      "1   always the perfect gift  i have never given on...   \n",
      "2   when you have a person who is hard to shop for...   \n",
      "3   the tin is a nice touch and pretty large  its ...   \n",
      "4   i bought this pack of starbucks gift cards in ...   \n",
      "..                                                ...   \n",
      "95  usually i either receive an amazon gift card a...   \n",
      "96                                       love my card   \n",
      "97  its easy to use and very convenient i would de...   \n",
      "98    very easy to use i wish i knew about it earlier   \n",
      "99                         sent in a lovely container   \n",
      "\n",
      "                                               tokens  \n",
      "0           [having, amazon, money, is, always, good]  \n",
      "1   [always, the, perfect, gift, i, have, never, g...  \n",
      "2   [when, you, have, a, person, who, is, hard, to...  \n",
      "3   [the, tin, is, a, nice, touch, and, pretty, la...  \n",
      "4   [i, bought, this, pack, of, starbucks, gift, c...  \n",
      "..                                                ...  \n",
      "95  [usually, i, either, receive, an, amazon, gift...  \n",
      "96                                   [love, my, card]  \n",
      "97  [its, easy, to, use, and, very, convenient, i,...  \n",
      "98  [very, easy, to, use, i, wish, i, knew, about,...  \n",
      "99                   [sent, in, a, lovely, container]  \n",
      "\n",
      "[100 rows x 3 columns]\n"
     ]
    }
   ],
   "source": [
    "df = pd.DataFrame(data)\n",
    "# Función de limpieza\n",
    "def clean_text(text):\n",
    "    text = re.sub(r'[^a-zA-Z\\s]', '', text, re.I)\n",
    "    text = text.lower()\n",
    "    return text\n",
    "\n",
    "df['cleaned_text'] = df['review'].apply(clean_text)\n",
    "\n",
    "# Tokenización\n",
    "df['tokens'] = df['cleaned_text'].apply(word_tokenize)\n",
    "\n",
    "print(df[['review', 'cleaned_text', 'tokens']])"
   ]
  },
  {
   "cell_type": "code",
   "execution_count": 23,
   "id": "21aeef9a-f182-48d8-bc2c-2957e5e2d52e",
   "metadata": {},
   "outputs": [
    {
     "name": "stdout",
     "output_type": "stream",
     "text": [
      "Defaulting to user installation because normal site-packages is not writeable\n",
      "Collecting textblob\n",
      "  Downloading textblob-0.19.0-py3-none-any.whl (624 kB)\n",
      "     -------------------------------------- 624.3/624.3 kB 2.2 MB/s eta 0:00:00\n",
      "Collecting nltk>=3.9\n",
      "  Downloading nltk-3.9.1-py3-none-any.whl (1.5 MB)\n",
      "     ---------------------------------------- 1.5/1.5 MB 2.7 MB/s eta 0:00:00\n",
      "Requirement already satisfied: click in d:\\anaconda3\\lib\\site-packages (from nltk>=3.9->textblob) (8.0.4)\n",
      "Requirement already satisfied: tqdm in d:\\anaconda3\\lib\\site-packages (from nltk>=3.9->textblob) (4.64.1)\n",
      "Requirement already satisfied: joblib in d:\\anaconda3\\lib\\site-packages (from nltk>=3.9->textblob) (1.1.0)\n",
      "Requirement already satisfied: regex>=2021.8.3 in d:\\anaconda3\\lib\\site-packages (from nltk>=3.9->textblob) (2022.7.9)\n",
      "Requirement already satisfied: colorama in d:\\anaconda3\\lib\\site-packages (from click->nltk>=3.9->textblob) (0.4.6)\n",
      "Installing collected packages: nltk, textblob\n",
      "Successfully installed nltk-3.9.1 textblob-0.19.0\n",
      "Note: you may need to restart the kernel to use updated packages.\n"
     ]
    },
    {
     "name": "stderr",
     "output_type": "stream",
     "text": [
      "  WARNING: The script nltk.exe is installed in 'C:\\Users\\DELL\\AppData\\Roaming\\Python\\Python39\\Scripts' which is not on PATH.\n",
      "  Consider adding this directory to PATH or, if you prefer to suppress this warning, use --no-warn-script-location.\n"
     ]
    }
   ],
   "source": [
    "#pip install textblob"
   ]
  },
  {
   "cell_type": "code",
   "execution_count": 25,
   "id": "f602d0e3-a869-4ad6-ac2d-9ad96f428386",
   "metadata": {},
   "outputs": [],
   "source": [
    "from nltk.tokenize import word_tokenize\n",
    "from textblob import TextBlob\n",
    "import nltk"
   ]
  },
  {
   "cell_type": "code",
   "execution_count": 27,
   "id": "c571cd93-74ca-4271-9092-3cddb79bb90d",
   "metadata": {},
   "outputs": [],
   "source": [
    "# Función de análisis de sentimiento\n",
    "def sentiment_analysis(text):\n",
    "    analysis = TextBlob(text)\n",
    "    return analysis.sentiment.polarity\n",
    "\n",
    "df['sentiment'] = df['cleaned_text'].apply(sentiment_analysis)\n",
    "\n",
    "print(df)"
   ]
  },
  {
   "cell_type": "code",
   "execution_count": null,
   "id": "e2e1406c-fe5a-4edb-b6e1-f5e9ed4b371b",
   "metadata": {},
   "outputs": [],
   "source": []
  }
 ],
 "metadata": {
  "kernelspec": {
   "display_name": "Python [conda env:Anaconda3]",
   "language": "python",
   "name": "conda-env-Anaconda3-py"
  },
  "language_info": {
   "codemirror_mode": {
    "name": "ipython",
    "version": 3
   },
   "file_extension": ".py",
   "mimetype": "text/x-python",
   "name": "python",
   "nbconvert_exporter": "python",
   "pygments_lexer": "ipython3",
   "version": "3.9.13"
  }
 },
 "nbformat": 4,
 "nbformat_minor": 5
}
